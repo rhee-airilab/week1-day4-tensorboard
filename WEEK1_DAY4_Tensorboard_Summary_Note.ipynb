{
 "cells": [
  {
   "cell_type": "markdown",
   "metadata": {},
   "source": [
    "# Tensorboard 활용\n",
    "\n",
    "\n",
    "\n",
    "## `Scalar`, `Histogram`, `Distribution`\n",
    "\n",
    "- Tensorboard `Scalars`, `Histogram`, `Distribution` 탭 사용\n",
    "- 텐서보드를 위한 summary data 를 파일에 기록, 확인\n",
    "- 텐서보드를 위한 histogram data 를 파일에 기록, 확인\n",
    "\n",
    "## 주요 메소드/단계\n",
    "\n",
    "- tf.summary.FileWriter(dir_path,graph)\n",
    "- tf.summary.scalar(a_tensor)\n",
    "- tf.summary.histogram(a_tensor)\n",
    "- tf.summary.merge([summary_1,summary_2,...])\n",
    "- tf.summary.merge_all()\n",
    "- summary_op eval\n",
    "- writer.add_summary()"
   ]
  },
  {
   "cell_type": "markdown",
   "metadata": {},
   "source": [
    "### 수요일 실습의 mnist_linear.py 에서 발췌"
   ]
  },
  {
   "cell_type": "code",
   "execution_count": 1,
   "metadata": {
    "collapsed": true
   },
   "outputs": [],
   "source": [
    "from __future__ import print_function, division\n",
    "import os\n",
    "import numpy as np\n",
    "import tensorflow as tf\n",
    "from mnist_data import load_mnist, load_mnist_t10k\n",
    "from image_util import save_image"
   ]
  },
  {
   "cell_type": "markdown",
   "metadata": {},
   "source": [
    "## 1주차 수요일 MNIST 실습 데이터와 동일한 데이터 사용"
   ]
  },
  {
   "cell_type": "code",
   "execution_count": 2,
   "metadata": {
    "cell_style": "center"
   },
   "outputs": [
    {
     "data": {
      "text/plain": [
       "'./mnist'"
      ]
     },
     "execution_count": 2,
     "metadata": {},
     "output_type": "execute_result"
    }
   ],
   "source": [
    "data_dir = './mnist'\n",
    "data_dir"
   ]
  },
  {
   "cell_type": "markdown",
   "metadata": {},
   "source": [
    "## 다운로드 - 쉘 스크립트 실행"
   ]
  },
  {
   "cell_type": "code",
   "execution_count": 3,
   "metadata": {
    "collapsed": true,
    "scrolled": false
   },
   "outputs": [],
   "source": [
    "%%bash\n",
    "if test ! -s ./mnist/t10k-images-idx3-ubyte\n",
    "then\n",
    "    mkdir -p ./mnist\n",
    "    cd ./mnist\n",
    "    echo \"$(pwd)\"\n",
    "    wget -q http://yann.lecun.com/exdb/mnist/train-images-idx3-ubyte.gz\n",
    "    wget -q http://yann.lecun.com/exdb/mnist/train-labels-idx1-ubyte.gz\n",
    "    wget -q http://yann.lecun.com/exdb/mnist/t10k-images-idx3-ubyte.gz\n",
    "    wget -q http://yann.lecun.com/exdb/mnist/t10k-labels-idx1-ubyte.gz\n",
    "    gzip -d *.gz\n",
    "fi"
   ]
  },
  {
   "cell_type": "markdown",
   "metadata": {},
   "source": [
    "### MNIST 데이터 특성 및, batch size, learning rate 설정"
   ]
  },
  {
   "cell_type": "code",
   "execution_count": 4,
   "metadata": {
    "collapsed": true
   },
   "outputs": [],
   "source": [
    "batch_size    = 128\n",
    "learning_rate = 0.05\n",
    "\n",
    "input_size    = 28 * 28\n",
    "output_size   = 10"
   ]
  },
  {
   "cell_type": "markdown",
   "metadata": {},
   "source": [
    "## MNIST 훈련용 그래프 구축"
   ]
  },
  {
   "cell_type": "code",
   "execution_count": 5,
   "metadata": {
    "collapsed": true
   },
   "outputs": [],
   "source": [
    "input_       = tf.placeholder(shape=[None, input_size],\n",
    "                        dtype=tf.float32, name=\"input\")\n",
    "label_       = tf.placeholder(shape=[None],\n",
    "                        dtype=tf.int64, name=\"label\")\n",
    "\n",
    "weights      = tf.Variable(tf.zeros([input_size, output_size]))\n",
    "biases       = tf.Variable(tf.zeros([output_size]))\n",
    "output       = tf.matmul(input_, weights) + biases\n",
    "pred         = tf.nn.softmax(output)\n",
    "\n",
    "label_onehot = tf.one_hot(label_, output_size, axis=1)\n",
    "loss         = tf.reduce_mean(\n",
    "                    tf.nn.softmax_cross_entropy_with_logits(\n",
    "                        logits=output,\n",
    "                        labels=label_onehot))\n",
    "trainer      = tf.train.GradientDescentOptimizer(\n",
    "                    learning_rate=learning_rate)\n",
    "optimize     = trainer.minimize(loss)\n",
    "\n",
    "correct      = tf.equal(tf.argmax(pred, axis=1), label_)\n",
    "accuracy     = tf.reduce_mean(tf.cast(correct, tf.float32))"
   ]
  },
  {
   "cell_type": "markdown",
   "metadata": {},
   "source": [
    "## summary_op 텐서를 그래프에 추가\n",
    "\n",
    "- `summary_op` 도 또 다른 `tensor` 라는 점에 유의\n",
    "- 따라서 `session.run()` 이나 `eval()` 없이 직접 사용할 수 없음"
   ]
  },
  {
   "cell_type": "code",
   "execution_count": 6,
   "metadata": {
    "collapsed": true
   },
   "outputs": [],
   "source": [
    "tf.summary.scalar('loss',loss)\n",
    "tf.summary.scalar('accuracy',accuracy)\n",
    "summary_op = tf.summary.merge_all()"
   ]
  },
  {
   "cell_type": "markdown",
   "metadata": {},
   "source": [
    "## 그래프는 준비되었고, 이제 훈련/테스트를 위한 루프를 작성"
   ]
  },
  {
   "cell_type": "markdown",
   "metadata": {},
   "source": [
    "### 데이터 로딩"
   ]
  },
  {
   "cell_type": "code",
   "execution_count": 7,
   "metadata": {
    "collapsed": true
   },
   "outputs": [],
   "source": [
    "images, labels       = load_mnist(data_dir)\n",
    "t_images, t_labels   = load_mnist_t10k(data_dir)\n",
    "images               = images / 127.0 - 1.0\n",
    "t_images             = t_images / 127.0 - 1.0"
   ]
  },
  {
   "cell_type": "markdown",
   "metadata": {},
   "source": [
    "### 세션 설정, 세션 생성, 초기화"
   ]
  },
  {
   "cell_type": "code",
   "execution_count": 8,
   "metadata": {
    "collapsed": true
   },
   "outputs": [],
   "source": [
    "# allow_growth 옵션을 사용하면, 텐서플로우가\n",
    "# 시작할 때 무조건 GPU 메모리 전체를 할당해서\n",
    "# 쓰지 않고 필요한 만큼만 할당 받아 사용하도록\n",
    "# 할 수 있음\n",
    "config    = tf.ConfigProto()\n",
    "config.gpu_options.allow_growth = True\n",
    "\n",
    "session   = tf.InteractiveSession(config=config)\n",
    "\n",
    "init      = tf.global_variables_initializer()\n",
    "session.run(init)"
   ]
  },
  {
   "cell_type": "markdown",
   "metadata": {},
   "source": [
    "### 훈련용 배치 갯수, 테스트용 배치 갯수 계산"
   ]
  },
  {
   "cell_type": "code",
   "execution_count": 9,
   "metadata": {
    "collapsed": true
   },
   "outputs": [],
   "source": [
    "batch_count     = 60000 // batch_size\n",
    "test_count      = 10000 // batch_size"
   ]
  },
  {
   "cell_type": "markdown",
   "metadata": {},
   "source": [
    "### summary 를 logdir 디렉토리에 저장해 주는 FileWriter 생성"
   ]
  },
  {
   "cell_type": "code",
   "execution_count": 10,
   "metadata": {
    "scrolled": true
   },
   "outputs": [
    {
     "name": "stdout",
     "output_type": "stream",
     "text": [
      "logdir/events.out.tfevents.1504687195.rhee-mbp.local\r\n",
      "logdir\r\n"
     ]
    }
   ],
   "source": [
    "# 혹시 이전 실행에서 만든 결과가 파일로 저장되어 있으면 먼저 지우고 시작\n",
    "!rm -fvr logdir"
   ]
  },
  {
   "cell_type": "code",
   "execution_count": 11,
   "metadata": {},
   "outputs": [
    {
     "data": {
      "text/plain": [
       "<tensorflow.python.summary.writer.writer.FileWriter at 0x117f19d90>"
      ]
     },
     "execution_count": 11,
     "metadata": {},
     "output_type": "execute_result"
    }
   ],
   "source": [
    "writer = tf.summary.FileWriter('logdir',graph=tf.get_default_graph())\n",
    "writer"
   ]
  },
  {
   "cell_type": "markdown",
   "metadata": {},
   "source": [
    "### summary 를 기록할 때 사용할 스텝 카운터 추가"
   ]
  },
  {
   "cell_type": "code",
   "execution_count": 12,
   "metadata": {
    "collapsed": true
   },
   "outputs": [],
   "source": [
    "step = 1"
   ]
  },
  {
   "cell_type": "markdown",
   "metadata": {},
   "source": [
    "### 훈련을 위한 루프는 화요일 실습의 mnist_linear.py 에서 발췌\n",
    "\n",
    "- line 9,10 과 23,24 에 추가된 writer 사용방법에 주목"
   ]
  },
  {
   "cell_type": "code",
   "execution_count": 13,
   "metadata": {
    "scrolled": false
   },
   "outputs": [
    {
     "name": "stdout",
     "output_type": "stream",
     "text": [
      "epoch 1: loss: 0.51362 acc: 0.85306 test_acc: 89.49%\n",
      "epoch 2: loss: 0.34259 acc: 0.90014 test_acc: 90.27%\n",
      "epoch 3: loss: 0.32064 acc: 0.90680 test_acc: 90.61%\n",
      "epoch 4: loss: 0.30919 acc: 0.91017 test_acc: 90.84%\n",
      "epoch 5: loss: 0.30176 acc: 0.91279 test_acc: 90.94%\n",
      "epoch 6: loss: 0.29638 acc: 0.91485 test_acc: 90.95%\n",
      "epoch 7: loss: 0.29221 acc: 0.91642 test_acc: 90.96%\n",
      "epoch 8: loss: 0.28883 acc: 0.91779 test_acc: 91.08%\n",
      "epoch 9: loss: 0.28601 acc: 0.91887 test_acc: 91.13%\n",
      "epoch 10: loss: 0.28359 acc: 0.91989 test_acc: 91.18%\n",
      "epoch 11: loss: 0.28148 acc: 0.92054 test_acc: 91.18%\n",
      "epoch 12: loss: 0.27962 acc: 0.92111 test_acc: 91.25%\n",
      "epoch 13: loss: 0.27795 acc: 0.92159 test_acc: 91.34%\n",
      "epoch 14: loss: 0.27644 acc: 0.92211 test_acc: 91.35%\n",
      "epoch 15: loss: 0.27507 acc: 0.92248 test_acc: 91.42%\n",
      "epoch 16: loss: 0.27381 acc: 0.92286 test_acc: 91.44%\n",
      "epoch 17: loss: 0.27265 acc: 0.92321 test_acc: 91.43%\n",
      "epoch 18: loss: 0.27158 acc: 0.92351 test_acc: 91.43%\n",
      "epoch 19: loss: 0.27058 acc: 0.92386 test_acc: 91.45%\n",
      "epoch 20: loss: 0.26964 acc: 0.92420 test_acc: 91.42%\n",
      "epoch 21: loss: 0.26876 acc: 0.92441 test_acc: 91.47%\n",
      "epoch 22: loss: 0.26794 acc: 0.92475 test_acc: 91.47%\n",
      "epoch 23: loss: 0.26716 acc: 0.92495 test_acc: 91.44%\n",
      "epoch 24: loss: 0.26642 acc: 0.92518 test_acc: 91.45%\n",
      "epoch 25: loss: 0.26572 acc: 0.92560 test_acc: 91.46%\n",
      "epoch 26: loss: 0.26505 acc: 0.92585 test_acc: 91.48%\n",
      "epoch 27: loss: 0.26442 acc: 0.92613 test_acc: 91.50%\n",
      "epoch 28: loss: 0.26381 acc: 0.92627 test_acc: 91.53%\n",
      "epoch 29: loss: 0.26323 acc: 0.92640 test_acc: 91.55%\n",
      "epoch 30: loss: 0.26268 acc: 0.92662 test_acc: 91.57%\n",
      "epoch 31: loss: 0.26214 acc: 0.92672 test_acc: 91.60%\n",
      "epoch 32: loss: 0.26163 acc: 0.92690 test_acc: 91.60%\n",
      "epoch 33: loss: 0.26114 acc: 0.92708 test_acc: 91.61%\n",
      "epoch 34: loss: 0.26067 acc: 0.92720 test_acc: 91.62%\n",
      "epoch 35: loss: 0.26021 acc: 0.92732 test_acc: 91.61%\n",
      "epoch 36: loss: 0.25977 acc: 0.92742 test_acc: 91.63%\n",
      "epoch 37: loss: 0.25935 acc: 0.92760 test_acc: 91.59%\n",
      "epoch 38: loss: 0.25893 acc: 0.92777 test_acc: 91.61%\n",
      "epoch 39: loss: 0.25854 acc: 0.92783 test_acc: 91.61%\n",
      "epoch 40: loss: 0.25815 acc: 0.92793 test_acc: 91.63%\n",
      "epoch 41: loss: 0.25778 acc: 0.92815 test_acc: 91.66%\n",
      "epoch 42: loss: 0.25741 acc: 0.92825 test_acc: 91.69%\n",
      "epoch 43: loss: 0.25706 acc: 0.92834 test_acc: 91.70%\n",
      "epoch 44: loss: 0.25672 acc: 0.92844 test_acc: 91.71%\n",
      "epoch 45: loss: 0.25639 acc: 0.92850 test_acc: 91.70%\n",
      "epoch 46: loss: 0.25606 acc: 0.92860 test_acc: 91.71%\n",
      "epoch 47: loss: 0.25575 acc: 0.92879 test_acc: 91.71%\n",
      "epoch 48: loss: 0.25544 acc: 0.92877 test_acc: 91.71%\n",
      "epoch 49: loss: 0.25514 acc: 0.92897 test_acc: 91.72%\n",
      "epoch 50: loss: 0.25485 acc: 0.92902 test_acc: 91.73%\n"
     ]
    }
   ],
   "source": [
    "for ep in range(50):\n",
    "    total_loss = 0\n",
    "    total_acc_v = 0\n",
    "    for i in range(batch_count):\n",
    "        img = np.reshape(\n",
    "                images[i*batch_size:(i+1)*batch_size],\n",
    "                [batch_size, 28 * 28])\n",
    "        lbl = (labels[i*batch_size:(i+1)*batch_size])\n",
    "        _, loss_v, acc_v, summary_v = session.run([\n",
    "                                        optimize, loss, accuracy, summary_op], \\\n",
    "                                        feed_dict= {input_: img, label_: lbl})\n",
    "        \n",
    "        writer.add_summary(summary_v)   # <<<===== add_summary!\n",
    "        step += 1\n",
    "        \n",
    "        total_loss += loss_v\n",
    "        total_acc_v += acc_v\n",
    "\n",
    "    total_acc = 0\n",
    "    for a in range(test_count):\n",
    "        index = a * batch_size\n",
    "        img = np.reshape(\n",
    "                t_images[index:index+batch_size], \\\n",
    "                [batch_size, 28 * 28])\n",
    "        lbl = t_labels[index:index+batch_size]\n",
    "        acc,summary_t = session.run(\n",
    "                            [accuracy, summary_op], \\\n",
    "                            feed_dict={input_:img, label_:lbl})\n",
    "        \n",
    "        writer.add_summary(summary_v)   # <<<===== add_summary!\n",
    "        step += 1\n",
    "\n",
    "        total_acc += acc\n",
    "\n",
    "    total_acc = total_acc / test_count\n",
    "\n",
    "    print('epoch %d: loss: %.5f acc: %.5f test_acc: %.2f%%' % (\n",
    "        ep+1, \n",
    "        total_loss / batch_count, \n",
    "        total_acc_v / batch_count, \n",
    "        total_acc * 100))"
   ]
  },
  {
   "cell_type": "markdown",
   "metadata": {},
   "source": [
    "### 텐서보드 실행\n",
    "\n",
    "- `SCALARS` 탭에서 그래프 확인\n",
    "- `Horizontal Axis` 의 선택을 `STEP`, `RELATIVE`, `WALL` 로 전환 해 봄\n",
    "- `Smoothing` 슬라이더를 움직여 봄\n",
    "- `Ignore outliers` 체크박스의 효과를 확인\n",
    "- `Show data download links` 및, 다운로드된 csv 파일을 다른 프로그램으로 확인\n",
    "- filter 기능 확인\n",
    "- 텐서보드 감상 후 정지 버튼을 누르거나 `Kernel` `->` `Interrupt` 메뉴를 선택\n"
   ]
  },
  {
   "cell_type": "code",
   "execution_count": 14,
   "metadata": {
    "scrolled": false
   },
   "outputs": [
    {
     "name": "stdout",
     "output_type": "stream",
     "text": [
      "Starting TensorBoard 54 at http://rhee-mbp.local:6006\n",
      "(Press CTRL+C to quit)\n",
      "^C\n"
     ]
    }
   ],
   "source": [
    "!tensorboard --logdir logdir"
   ]
  },
  {
   "cell_type": "markdown",
   "metadata": {},
   "source": [
    "## 기대했던 그림이 나오지 않았을 것입니다\n",
    "\n",
    "- add_summary() 호출시 global_step= 값을 적어 줘야 함\n",
    "\n",
    "- 이번에는 [tqdm](https://pypi.python.org/pypi/tqdm) 을 써 봅시다 "
   ]
  },
  {
   "cell_type": "code",
   "execution_count": 15,
   "metadata": {
    "scrolled": true
   },
   "outputs": [
    {
     "name": "stdout",
     "output_type": "stream",
     "text": [
      "Requirement already satisfied: tqdm in /opt/conda/envs/tensorflow/lib/python2.7/site-packages\r\n"
     ]
    }
   ],
   "source": [
    "# 먼저, 현재 env 에 tqdm 이 설치되어 있지 않으면 설치\n",
    "# 쉘 명령어 pip 를 이용\n",
    "!pip install tqdm"
   ]
  },
  {
   "cell_type": "code",
   "execution_count": 16,
   "metadata": {
    "collapsed": true
   },
   "outputs": [],
   "source": [
    "from tqdm import tqdm"
   ]
  },
  {
   "cell_type": "code",
   "execution_count": 17,
   "metadata": {
    "scrolled": false
   },
   "outputs": [
    {
     "name": "stderr",
     "output_type": "stream",
     "text": [
      "100%|██████████| 50/50 [00:25<00:00,  1.96it/s]"
     ]
    },
    {
     "name": "stdout",
     "output_type": "stream",
     "text": [
      "epoch 50: loss: 0.24566 acc: 0.93187 test_acc: 91.76%\n"
     ]
    },
    {
     "name": "stderr",
     "output_type": "stream",
     "text": [
      "\n"
     ]
    }
   ],
   "source": [
    "for ep in tqdm(range(50)):\n",
    "    total_loss = 0\n",
    "    total_acc_v = 0\n",
    "    for i in range(batch_count):\n",
    "        img = np.reshape(images[i*batch_size:(i+1)*batch_size], \\\n",
    "                         [batch_size, 28 * 28])\n",
    "        lbl = (labels[i*batch_size:(i+1)*batch_size])\n",
    "        _, loss_v, acc_v, summary_v = session.run([ \\\n",
    "                                        optimize, loss, accuracy, summary_op], \\\n",
    "                                        feed_dict= {input_: img, label_: lbl})\n",
    "\n",
    "        writer.add_summary(summary_v,step)\n",
    "        step += 1\n",
    "        \n",
    "        total_loss += loss_v\n",
    "        total_acc_v += acc_v\n",
    "\n",
    "    total_acc = 0\n",
    "    for a in range(test_count):\n",
    "        index = a * batch_size\n",
    "        img = np.reshape(t_images[index:index+batch_size], \\\n",
    "                         [batch_size, 28 * 28])\n",
    "        lbl = t_labels[index:index+batch_size]\n",
    "        acc,summary_t = session.run([accuracy, summary_op], \\\n",
    "                                    feed_dict={input_:img, label_:lbl})\n",
    "        \n",
    "        writer.add_summary(summary_v,step)\n",
    "        step += 1\n",
    "\n",
    "        total_acc += acc\n",
    "    total_acc = total_acc / test_count\n",
    "\n",
    "print('epoch %d: loss: %.5f acc: %.5f test_acc: %.2f%%' % (\n",
    "    ep+1, \n",
    "    total_loss / batch_count, \n",
    "    total_acc_v / batch_count, \n",
    "    total_acc * 100))"
   ]
  },
  {
   "cell_type": "code",
   "execution_count": 18,
   "metadata": {
    "scrolled": true
   },
   "outputs": [
    {
     "name": "stdout",
     "output_type": "stream",
     "text": [
      "Starting TensorBoard 54 at http://rhee-mbp.local:6006\n",
      "(Press CTRL+C to quit)\n",
      "^C\n"
     ]
    }
   ],
   "source": [
    "!tensorboard --logdir logdir"
   ]
  },
  {
   "cell_type": "markdown",
   "metadata": {},
   "source": [
    "## logdir 에 뭐가 들어있는지 잠깐확인"
   ]
  },
  {
   "cell_type": "code",
   "execution_count": 19,
   "metadata": {},
   "outputs": [
    {
     "name": "stdout",
     "output_type": "stream",
     "text": [
      "total 6368\r\n",
      "drwxr-xr-x   3 rhee  staff      102 Sep  6 18:05 \u001b[34m.\u001b[m\u001b[m\r\n",
      "drwxrwxr-x  37 rhee  staff     1258 Sep  6 18:08 \u001b[34m..\u001b[m\u001b[m\r\n",
      "-rw-r--r--   1 rhee  staff  3248369 Sep  6 18:06 events.out.tfevents.1504688727.rhee-mbp.local\r\n"
     ]
    }
   ],
   "source": [
    "!ls -la logdir"
   ]
  },
  {
   "cell_type": "markdown",
   "metadata": {},
   "source": [
    "## Histogram 기능 활용\n",
    "\n",
    "- 특정 데이터의 히스토그램을 만들어 볼 수 있는 기능\n",
    "\n",
    "- 활용 예:\n",
    "    - 훈련용 데이터에 편향성이 있는지 테스트\n",
    "\n",
    "    - `label_` placeholder 에 들어왔던 값들의 histogram 시각화\n",
    "\n",
    "        `label_ = tf.placeholder(shape=[None], dtype=tf.int64, name=\"label\")`\n"
   ]
  },
  {
   "cell_type": "code",
   "execution_count": 20,
   "metadata": {
    "collapsed": true
   },
   "outputs": [],
   "source": [
    "# logdir2 에 저장하기로\n",
    "!rm -fr logdir2"
   ]
  },
  {
   "cell_type": "code",
   "execution_count": 21,
   "metadata": {
    "collapsed": true
   },
   "outputs": [],
   "source": [
    "# writer 는 새로운 logdir2 에 대해서 새로 만들어 사용\n",
    "writer = tf.summary.FileWriter('logdir2',graph=tf.get_default_graph())"
   ]
  },
  {
   "cell_type": "markdown",
   "metadata": {},
   "source": [
    "### 먼저, 그래프에 histogram summary 를 추가"
   ]
  },
  {
   "cell_type": "code",
   "execution_count": 22,
   "metadata": {
    "collapsed": true
   },
   "outputs": [],
   "source": [
    "hist_labels    = tf.summary.histogram('labels',tf.cast(label_,tf.float32))\n",
    "hist_outputs   = tf.summary.histogram('outputs',tf.argmax(output,axis=1))\n",
    "\n",
    "# summary_op 를 재정의. tf.summary.merge() 를 이용\n",
    "summary_op = tf.summary.merge([hist_labels, hist_outputs])"
   ]
  },
  {
   "cell_type": "markdown",
   "metadata": {},
   "source": [
    "### 나머지는 이전과 동일"
   ]
  },
  {
   "cell_type": "code",
   "execution_count": 23,
   "metadata": {
    "collapsed": true
   },
   "outputs": [],
   "source": [
    "# 이건 텐서보드 히스토그램을 위한 변수가 아님. 용도는 끝에서 설명\n",
    "label_stats = [0] * 10"
   ]
  },
  {
   "cell_type": "code",
   "execution_count": 24,
   "metadata": {
    "scrolled": false
   },
   "outputs": [
    {
     "name": "stderr",
     "output_type": "stream",
     "text": [
      "100%|██████████| 50/50 [00:37<00:00,  1.33it/s]"
     ]
    },
    {
     "name": "stdout",
     "output_type": "stream",
     "text": [
      "epoch 50: loss: 0.24095 acc: 0.93339 test_acc: 91.78%\n"
     ]
    },
    {
     "name": "stderr",
     "output_type": "stream",
     "text": [
      "\n"
     ]
    }
   ],
   "source": [
    "for ep in tqdm(range(50)):\n",
    "    total_loss = 0\n",
    "    total_acc_v = 0\n",
    "    for i in range(batch_count):\n",
    "        img = np.reshape(images[i*batch_size:(i+1)*batch_size],\n",
    "                         [batch_size, 28 * 28])\n",
    "        lbl = (labels[i*batch_size:(i+1)*batch_size])\n",
    "        \n",
    "        for l in lbl: \n",
    "            label_stats[l] += 1\n",
    "            \n",
    "        _, loss_v, acc_v, summary_v = session.run(\n",
    "                                        [optimize, loss, accuracy, summary_op],\n",
    "                                        feed_dict= {input_: img, label_: lbl})\n",
    "        \n",
    "        writer.add_summary(summary_v,step)\n",
    "        step += 1\n",
    "\n",
    "        total_loss += loss_v\n",
    "        total_acc_v += acc_v\n",
    "\n",
    "    total_acc = 0\n",
    "    for a in range(test_count):\n",
    "        index = a * batch_size\n",
    "        img = np.reshape(t_images[index:index+batch_size],\n",
    "                         [batch_size, 28 * 28])\n",
    "        lbl = t_labels[index:index+batch_size]\n",
    "        \n",
    "        for l in lbl:\n",
    "            label_stats[l] += 1\n",
    "\n",
    "        acc,summary_t = session.run([accuracy, summary_op],\n",
    "                                    feed_dict={input_:img, label_:lbl})\n",
    "        \n",
    "        writer.add_summary(summary_v,step)\n",
    "        step += 1\n",
    "        \n",
    "        total_acc += acc\n",
    "    total_acc = total_acc / test_count\n",
    "    \n",
    "print('epoch %d: loss: %.5f acc: %.5f test_acc: %.2f%%' % (\n",
    "    ep+1, \n",
    "    total_loss / batch_count, \n",
    "    total_acc_v / batch_count, \n",
    "    total_acc * 100))"
   ]
  },
  {
   "cell_type": "code",
   "execution_count": 25,
   "metadata": {
    "scrolled": true
   },
   "outputs": [
    {
     "name": "stdout",
     "output_type": "stream",
     "text": [
      "Starting TensorBoard 54 at http://rhee-mbp.local:6006\n",
      "(Press CTRL+C to quit)\n",
      "^C\n"
     ]
    }
   ],
   "source": [
    "!tensorboard --logdir logdir2"
   ]
  },
  {
   "cell_type": "markdown",
   "metadata": {},
   "source": [
    "### 그림이 좀 이상할 수 있음, 다른 방법으로 다시 확인\n",
    "\n",
    "- 위에 이렇게 적은 부분이 있습니다\n",
    "\n",
    "        # 이건 텐서보드 히스토그램을 위한 변수가 아님. 용도는 끝에서 설명\n",
    "        label_stats = [0] * 10\n",
    "\n",
    "- 학습 및 테스트 루프의 중간에 이런 코드도 있습니다\n",
    "\n",
    "        for l in lbl:\n",
    "            label_stats[l] += 1\n",
    "\n",
    "- 이렇게 파이썬 코드로 수집한 히스토그램 데이터를 그래프로 그려 봅니다"
   ]
  },
  {
   "cell_type": "code",
   "execution_count": 26,
   "metadata": {
    "scrolled": true
   },
   "outputs": [
    {
     "data": {
      "image/png": "[encoded data removed]",
      "text/plain": [
       "<matplotlib.figure.Figure at 0x11814ddd0>"
      ]
     },
     "metadata": {},
     "output_type": "display_data"
    }
   ],
   "source": [
    "# pyplot 로 그린 그래프가 jupyter notebook 셀 내부에\n",
    "# 그려지게 하려면 %matplotlib inline 이라고 적어줍니다.\n",
    "# (이건 jupyter notebook 에서만 가능함. 파이썬에서 지원하는 것이 아님)\n",
    "%matplotlib inline\n",
    "import matplotlib.pyplot as plt\n",
    "plt.bar(range(len(label_stats)),label_stats);"
   ]
  },
  {
   "cell_type": "markdown",
   "metadata": {},
   "source": [
    "### 텐서보드는 다양한 범위의 데이터에 대한 히스토그램을 보여주기 위해서 몇 가지 트릭을 사용함\n",
    "\n",
    "- [exponentially distributed bins](https://www.tensorflow.org/get_started/tensorboard_histograms)\n",
    "\n",
    "    - 0 에 가까울 수록 많은 갯수의 bin 할당 ( 보다 정확하게 구분되어 보임 )\n",
    "    \n",
    "    - 값이 클수록 적은 갯수의 bin 할당, 따라서 많은 값들이 동일한 bins 에 포함되어 값이 뭉쳐져서 보임\n",
    "    \n",
    "    - 실제로 입력한 값들이 정수라고 해도, 히스토그램 상에서는 bin 중심과 bin 너비가 실수로 표현되고, 카운터도 실수로 표현됨\n",
    "\n",
    "\n",
    "- [reservoir sampling](https://en.wikipedia.org/wiki/Reservoir_sampling)\n",
    "\n",
    "    - \"Reservoir sampling is a family of randomized algorithms for randomly choosing a sample of k items from a list S containing n items, where n is either a very large or unknown number. Typically n is large enough that the list doesn't fit into main memory.\"\n"
   ]
  }
 ],
 "metadata": {
  "kernelspec": {
   "display_name": "Python 2",
   "language": "python",
   "name": "python2"
  },
  "language_info": {
   "codemirror_mode": {
    "name": "ipython",
    "version": 2
   },
   "file_extension": ".py",
   "mimetype": "text/x-python",
   "name": "python",
   "nbconvert_exporter": "python",
   "pygments_lexer": "ipython2",
   "version": "2.7.13"
  },
  "notify_time": "5"
 },
 "nbformat": 4,
 "nbformat_minor": 2
}
